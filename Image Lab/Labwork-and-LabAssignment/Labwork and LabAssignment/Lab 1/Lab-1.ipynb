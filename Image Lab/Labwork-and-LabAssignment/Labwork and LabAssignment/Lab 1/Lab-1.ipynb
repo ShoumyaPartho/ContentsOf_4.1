{
 "cells": [
  {
   "cell_type": "code",
   "execution_count": 3,
   "id": "7a8d37f0",
   "metadata": {},
   "outputs": [],
   "source": [
    "import cv2\n",
    "import numpy as np\n",
    "import matplotlib.pyplot as plt"
   ]
  },
  {
   "cell_type": "code",
   "execution_count": 52,
   "id": "60a6e902",
   "metadata": {},
   "outputs": [],
   "source": [
    "path = 'D:/4.1/Course/Theory/CSE 4127 (Image Processing)/Previous/CSE 4127 Image/Image Lab/lab1/lab1/lena.png'\n",
    "img = cv2.imread(path,cv2.IMREAD_GRAYSCALE)\n",
    "cv2.imshow(\"COLOR\",img)\n",
    "cv2.waitKey(0)\n",
    "cv2.destroyAllWindows()"
   ]
  },
  {
   "cell_type": "code",
   "execution_count": 53,
   "id": "0d2ee427",
   "metadata": {},
   "outputs": [
    {
     "data": {
      "text/plain": [
       "(512, 512)"
      ]
     },
     "execution_count": 53,
     "metadata": {},
     "output_type": "execute_result"
    }
   ],
   "source": [
    "img.shape"
   ]
  },
  {
   "cell_type": "code",
   "execution_count": 54,
   "id": "e6461386",
   "metadata": {},
   "outputs": [],
   "source": [
    "kernel = np.array(([1,2,3,4,5],[6,7,8,9,10],[11,12,1,-12,-11],[-10,-9,-8,-7,-6],[-5,-4,-3,-2,-1]),np.float32)"
   ]
  },
  {
   "cell_type": "code",
   "execution_count": 73,
   "id": "ca6ff7f7",
   "metadata": {},
   "outputs": [],
   "source": [
    "paddedImg = cv2.copyMakeBorder(img,3,1,3,1,cv2.BORDER_CONSTANT)\n",
    "cv2.imshow(\"COLOR\",paddedImg)\n",
    "cv2.waitKey(0)\n",
    "cv2.destroyAllWindows()"
   ]
  },
  {
   "cell_type": "code",
   "execution_count": 74,
   "id": "4a35b11d",
   "metadata": {},
   "outputs": [
    {
     "data": {
      "text/plain": [
       "(516, 516)"
      ]
     },
     "execution_count": 74,
     "metadata": {},
     "output_type": "execute_result"
    }
   ],
   "source": [
    "paddedImg.shape"
   ]
  },
  {
   "cell_type": "code",
   "execution_count": 75,
   "id": "6975f28f",
   "metadata": {},
   "outputs": [],
   "source": [
    "resultImg = np.zeros((512,512),np.float32)"
   ]
  },
  {
   "cell_type": "code",
   "execution_count": 76,
   "id": "ee33b8bb",
   "metadata": {},
   "outputs": [],
   "source": [
    "for x in range(1,513):\n",
    "    for y in range(1,513):\n",
    "        for i in range(5):\n",
    "            for j in range(5):\n",
    "                resultImg[x-1][y-1] += paddedImg[x+i-1][y+j-1] * kernel[4-i][4-j]"
   ]
  },
  {
   "cell_type": "code",
   "execution_count": 81,
   "id": "bc3f7912",
   "metadata": {},
   "outputs": [],
   "source": [
    "cv2.imshow(\"GRAY1\",typeImg)\n",
    "cv2.waitKey(0)\n",
    "cv2.destroyAllWindows()"
   ]
  },
  {
   "cell_type": "code",
   "execution_count": 82,
   "id": "1a293786",
   "metadata": {},
   "outputs": [],
   "source": [
    "#Normalize\n",
    "normImg = np.zeros((512,512),np.float32)\n",
    "cv2.normalize(resultImg,normImg,0,255,cv2.NORM_MINMAX)\n",
    "# cv2.imshow(\"GRAY\",typeImg)\n",
    "# cv2.waitKey(0)\n",
    "# cv2.destroyAllWindows()\n",
    "typeImg = np.asarray(normImg,np.uint8)\n",
    "cv2.imshow(\"GRAY\",typeImg)\n",
    "cv2.waitKey(0)\n",
    "cv2.destroyAllWindows()"
   ]
  },
  {
   "cell_type": "code",
   "execution_count": null,
   "id": "7978abfb",
   "metadata": {},
   "outputs": [],
   "source": []
  },
  {
   "cell_type": "code",
   "execution_count": null,
   "id": "d16f6f01",
   "metadata": {},
   "outputs": [],
   "source": []
  }
 ],
 "metadata": {
  "kernelspec": {
   "display_name": "Python 3 (ipykernel)",
   "language": "python",
   "name": "python3"
  },
  "language_info": {
   "codemirror_mode": {
    "name": "ipython",
    "version": 3
   },
   "file_extension": ".py",
   "mimetype": "text/x-python",
   "name": "python",
   "nbconvert_exporter": "python",
   "pygments_lexer": "ipython3",
   "version": "3.9.7"
  }
 },
 "nbformat": 4,
 "nbformat_minor": 5
}
